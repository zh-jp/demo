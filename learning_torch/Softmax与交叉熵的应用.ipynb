{
 "cells": [
  {
   "cell_type": "code",
   "execution_count": 9,
   "metadata": {},
   "outputs": [
    {
     "name": "stdout",
     "output_type": "stream",
     "text": [
      "tensor([[2.0000, 0.5000, 6.0000],\n",
      "        [0.1000, 0.0000, 3.0000]])\n",
      "tensor([2, 1])\n"
     ]
    }
   ],
   "source": [
    "import torch\n",
    "logits = torch.autograd.Variable(torch.tensor([[2, 0.5,6], [0.1,0,3]]))\n",
    "labels = torch.autograd.Variable(torch.torch.LongTensor([2,1]))\n",
    "print(logits)\n",
    "print(labels)"
   ]
  },
  {
   "cell_type": "code",
   "execution_count": 10,
   "metadata": {},
   "outputs": [
    {
     "name": "stdout",
     "output_type": "stream",
     "text": [
      "Sotfmax: tensor([[0.0179, 0.0040, 0.9781],\n",
      "        [0.0498, 0.0451, 0.9051]])\n"
     ]
    }
   ],
   "source": [
    "print('Sotfmax:', torch.nn.Softmax(dim=1)(logits))"
   ]
  },
  {
   "cell_type": "code",
   "execution_count": 11,
   "metadata": {},
   "outputs": [
    {
     "name": "stdout",
     "output_type": "stream",
     "text": [
      "logSotfmax: tensor([[-4.0222, -5.5222, -0.0222],\n",
      "        [-2.9997, -3.0997, -0.0997]])\n"
     ]
    }
   ],
   "source": [
    "logsoftmax = torch.nn.LogSoftmax(dim=1)(logits)\n",
    "print('logSotfmax:', logsoftmax)"
   ]
  },
  {
   "cell_type": "code",
   "execution_count": 12,
   "metadata": {},
   "outputs": [
    {
     "name": "stdout",
     "output_type": "stream",
     "text": [
      "NLLLOSS: tensor(1.5609)\n"
     ]
    }
   ],
   "source": [
    "output = torch.nn.NLLLoss()(logsoftmax, labels)\n",
    "print('NLLLOSS:', output)"
   ]
  },
  {
   "cell_type": "code",
   "execution_count": 13,
   "metadata": {},
   "outputs": [
    {
     "name": "stdout",
     "output_type": "stream",
     "text": [
      "CrossEntropyLoss: tensor(1.5609)\n"
     ]
    }
   ],
   "source": [
    "print('CrossEntropyLoss:', torch.nn.CrossEntropyLoss()(logits, labels))"
   ]
  }
 ],
 "metadata": {
  "kernelspec": {
   "display_name": "pj1",
   "language": "python",
   "name": "python3"
  },
  "language_info": {
   "codemirror_mode": {
    "name": "ipython",
    "version": 3
   },
   "file_extension": ".py",
   "mimetype": "text/x-python",
   "name": "python",
   "nbconvert_exporter": "python",
   "pygments_lexer": "ipython3",
   "version": "3.9.13"
  },
  "orig_nbformat": 4,
  "vscode": {
   "interpreter": {
    "hash": "1a2ba024e8b74661af8ab6e95599756a59d5ec2a34e482eaba93c7adfdb10e92"
   }
  }
 },
 "nbformat": 4,
 "nbformat_minor": 2
}
