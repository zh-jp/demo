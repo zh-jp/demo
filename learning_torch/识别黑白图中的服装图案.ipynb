{
 "cells": [
  {
   "attachments": {},
   "cell_type": "markdown",
   "metadata": {},
   "source": [
    "使用的数据集：Fashion-MNIST\n",
    "该数据集是MNIST（手写图片）的替代，内容是28px * 28px 的灰度图片，内容包括：上衣、裤子、鞋子等。\n",
    "|标签|0|1|2|3|4|5|6|7|8|9|\n",
    "|-|-|-|-|-|-|-|-|-|-|-| \n",
    "|描述|T恤/上衣|裤子|套衫|裙子|外套|凉鞋|衬衫|运动鞋|包|踝靴|"
   ]
  },
  {
   "cell_type": "code",
   "execution_count": 10,
   "metadata": {},
   "outputs": [],
   "source": [
    "# 下载数据集\n",
    "import torchvision\n",
    "import torchvision.transforms as transforms\n",
    "data_dir = './data'\n",
    "transform = transforms.Compose([transforms.ToTensor()])\n",
    "train_dataset = torchvision.datasets.FashionMNIST(data_dir, train=True, transform=transform, download=True)"
   ]
  },
  {
   "attachments": {},
   "cell_type": "markdown",
   "metadata": {},
   "source": [
    "1. 制作批次数据集"
   ]
  },
  {
   "cell_type": "code",
   "execution_count": 11,
   "metadata": {},
   "outputs": [],
   "source": [
    "import torch\n",
    "batch_size = 10\n",
    "train_loader = torch.utils.data.DataLoader(train_dataset, batch_size=batch_size, shuffle=True)\n",
    "test_loader = torch.utils.data.DataLoader(train_dataset, batch_size=batch_size, shuffle=True)"
   ]
  },
  {
   "attachments": {},
   "cell_type": "markdown",
   "metadata": {},
   "source": [
    "2. 读取批次数据集"
   ]
  },
  {
   "cell_type": "code",
   "execution_count": 12,
   "metadata": {},
   "outputs": [
    {
     "name": "stdout",
     "output_type": "stream",
     "text": [
      "样本形状： torch.Size([10, 1, 28, 28])\n",
      "样本标签： tensor([5, 9, 9, 4, 7, 0, 0, 5, 8, 5])\n",
      "图片形状： torch.Size([3, 32, 302])\n",
      "Sandal,Ankle_Book,Ankle_Book, Coat,Sneaker,T-shirt,T-shirt,Sandal,  Bag,Sandal\n"
     ]
    },
    {
     "data": {
      "image/png": "[encoded data removed]",
      "text/plain": [
       "<Figure size 640x480 with 1 Axes>"
      ]
     },
     "metadata": {},
     "output_type": "display_data"
    }
   ],
   "source": [
    "import matplotlib.pyplot as plt\n",
    "import numpy as np\n",
    "def imshow(img):    # 定义显示图片函数\n",
    "    print(\"图片形状：\", np.shape(img))\n",
    "    img = img / 2 + .5\n",
    "    nping = img.numpy()\n",
    "    plt.axis('off')\n",
    "    plt.imshow(np.transpose(nping, (1,2,0)))\n",
    "\n",
    "classes = ('T-shirt', 'Trouser', 'Pullover', 'Dress', 'Coat', 'Sandal', 'Shirt', \n",
    "'Sneaker', 'Bag', 'Ankle_Book')     # 定义类别名称\n",
    "sample = iter(train_loader)         # 将数据集转化为迭代器\n",
    "images, labels = sample.next()      # 从迭代器中去除一批次样本\n",
    "print('样本形状：', np.shape(images))   # 打印样本的形状\n",
    "print('样本标签：', labels)             \n",
    "imshow(torchvision.utils.make_grid(images, nrow=batch_size))    # 数据可视化\n",
    "print(','.join('%5s' % classes[labels[j]] for j in range(len(images))))"
   ]
  },
  {
   "attachments": {},
   "cell_type": "markdown",
   "metadata": {},
   "source": [
    "3. 定义模型类"
   ]
  },
  {
   "cell_type": "code",
   "execution_count": 13,
   "metadata": {},
   "outputs": [],
   "source": [
    "import torch.nn.functional as F\n",
    "class myConNet(torch.nn.Module):\n",
    "    def __init__(self) -> None:\n",
    "        super(myConNet, self).__init__()\n",
    "        # 定义卷积层\n",
    "        self.conv1=torch.nn.Conv2d(in_channels=1, out_channels=6, kernel_size=5)\n",
    "        self.conv2=torch.nn.Conv2d(in_channels=6, out_channels=12, kernel_size=5)\n",
    "        # 定义全连接层\n",
    "        self.fc1=torch.nn.Linear(in_features=12*4*4, out_features=120)\n",
    "        self.fc2=torch.nn.Linear(in_features=120, out_features=60)\n",
    "        self.out=torch.nn.Linear(in_features=60, out_features=10)\n",
    "    \n",
    "    def forward(self, t):   # 搭建正向结构\n",
    "        # 第一层卷积层和池化层\n",
    "        t = self.conv1(t)\n",
    "        t = F.relu(t)\n",
    "        t = F.max_pool2d(t, kernel_size=2, stride=2)\n",
    "        # 第二层卷积和池化处理\n",
    "        t = self.conv2(t)\n",
    "        t = F.relu(t)\n",
    "        t = F.max_pool2d(t, kernel_size=2, stride=2)\n",
    "        # 搭建全连接网络，第一层全连接\n",
    "        t = t.reshape(-1, 12*4*4)\n",
    "        t = self.fc1(t)\n",
    "        t = F.relu(t)\n",
    "        # 第二层全连接\n",
    "        t = self.fc2(t)\n",
    "        t = F.relu(t)\n",
    "        # 第三层全连接\n",
    "        t = self.out(t)\n",
    "        return t"
   ]
  },
  {
   "cell_type": "code",
   "execution_count": 25,
   "metadata": {},
   "outputs": [
    {
     "name": "stdout",
     "output_type": "stream",
     "text": [
      "cuda:0\n",
      "myConNet(\n",
      "  (conv1): Conv2d(1, 6, kernel_size=(5, 5), stride=(1, 1))\n",
      "  (conv2): Conv2d(6, 12, kernel_size=(5, 5), stride=(1, 1))\n",
      "  (fc1): Linear(in_features=192, out_features=120, bias=True)\n",
      "  (fc2): Linear(in_features=120, out_features=60, bias=True)\n",
      "  (out): Linear(in_features=60, out_features=10, bias=True)\n",
      ")\n",
      "cuda_device_count 1\n"
     ]
    }
   ],
   "source": [
    "network = myConNet()\n",
    "device = torch.device(\"cuda:0\" if torch.cuda.is_available() else \"cpu\") \n",
    "print(device)\n",
    "network.to(device)\n",
    "print(network)\n",
    "# 训练模型\n",
    "device_count = torch.cuda.device_count() # 获取本机GPU显卡个数\n",
    "print(\"cuda_device_count\", device_count)\n",
    "device_ids = list(range(device_count))  # 生成显卡索引列表\n",
    "network = torch.nn.DataParallel(network, device_ids=device_ids)"
   ]
  },
  {
   "attachments": {},
   "cell_type": "markdown",
   "metadata": {},
   "source": [
    "4. 定义损失的计算方法及优化器"
   ]
  },
  {
   "cell_type": "code",
   "execution_count": 15,
   "metadata": {},
   "outputs": [],
   "source": [
    "criterion = torch.nn.CrossEntropyLoss() # 实例化损失函数类\n",
    "optimizer = torch.optim.Adam(network.parameters(), lr=.01)"
   ]
  },
  {
   "attachments": {},
   "cell_type": "markdown",
   "metadata": {},
   "source": [
    "5. 训练模型"
   ]
  },
  {
   "cell_type": "code",
   "execution_count": 8,
   "metadata": {},
   "outputs": [
    {
     "name": "stdout",
     "output_type": "stream",
     "text": [
      "[1,  1000] loss: 0.429\n",
      "[1,  2000] loss: 0.315\n",
      "[1,  3000] loss: 0.300\n",
      "[1,  4000] loss: 0.281\n",
      "[1,  5000] loss: 0.278\n",
      "[1,  6000] loss: 0.281\n",
      "[2,  1000] loss: 0.268\n",
      "[2,  2000] loss: 0.268\n",
      "[2,  3000] loss: 0.290\n",
      "[2,  4000] loss: 0.264\n",
      "[2,  5000] loss: 0.265\n",
      "[2,  6000] loss: 0.274\n",
      "Finish training\n"
     ]
    }
   ],
   "source": [
    "for epoch in range(2): # 训练模型\n",
    "    running_loss = 0.0\n",
    "    for i, data in enumerate(train_loader, 0): # 循环取出批次数据\n",
    "        inputs, labels = data\n",
    "        inputs, labels = inputs.to(device), labels.to(device)\n",
    "        optimizer.zero_grad()   # 清空之前的梯度\n",
    "        outputs = network(inputs)\n",
    "        loss = criterion(outputs, labels)\n",
    "        loss.backward() # 反向传播\n",
    "        optimizer.step() # 更新参数\n",
    "\n",
    "        running_loss += loss.item()\n",
    "        if i % 1000 == 999:\n",
    "            print('[%d, %5d] loss: %.3f' % \n",
    "            (epoch + 1, i+1, running_loss/2000))\n",
    "            running_loss = 0.0\n",
    "print('Finish training')"
   ]
  },
  {
   "attachments": {},
   "cell_type": "markdown",
   "metadata": {},
   "source": [
    "6. 保存模型"
   ]
  },
  {
   "cell_type": "code",
   "execution_count": 19,
   "metadata": {},
   "outputs": [],
   "source": [
    "torch.save(network.state_dict(), 'models/CNNFashionMNIST.pth')"
   ]
  },
  {
   "attachments": {},
   "cell_type": "markdown",
   "metadata": {},
   "source": [
    "7. 加载模型，并对其进行预测"
   ]
  },
  {
   "cell_type": "code",
   "execution_count": 20,
   "metadata": {},
   "outputs": [
    {
     "name": "stdout",
     "output_type": "stream",
     "text": [
      "图片形状： torch.Size([3, 32, 302])\n",
      "真实标签： Trouser Pullover Sneaker Trouser   Bag  Coat Shirt Sneaker Sneaker Dress\n",
      "预测结果： Dress Pullover Sneaker Trouser   Bag Shirt Shirt Sneaker Sneaker Dress\n"
     ]
    },
    {
     "data": {
      "image/png": "[encoded data removed]",
      "text/plain": [
       "<Figure size 640x480 with 1 Axes>"
      ]
     },
     "metadata": {},
     "output_type": "display_data"
    }
   ],
   "source": [
    "network.load_state_dict(torch.load('models/CNNFashionMNIST.pth'))   # 加载模型\n",
    "dataiter = iter(test_loader)    # 获取测试数据\n",
    "images, labels = dataiter.next()    \n",
    "inputs, labels = images.to(device), labels.to(device)\n",
    "\n",
    "imshow(torchvision.utils.make_grid(images, nrow=batch_size))\n",
    "print('真实标签：', \n",
    "' '.join('%5s' % classes[labels[j]] for j in range(len(images))))\n",
    "outputs = network(inputs)   # 调用模型进行预测\n",
    "_, predicted = torch.max(outputs, 1)  #计算分类结果\n",
    "print('预测结果：', ' '.join('%5s' % classes[predicted[j]]\n",
    "for j in range(len(images))))"
   ]
  },
  {
   "attachments": {},
   "cell_type": "markdown",
   "metadata": {},
   "source": [
    "8. 评估模型"
   ]
  },
  {
   "cell_type": "code",
   "execution_count": 23,
   "metadata": {},
   "outputs": [
    {
     "name": "stdout",
     "output_type": "stream",
     "text": [
      "Accuracy of T-shirt : 81 %\n",
      "Accuracy of Trouser : 96 %\n",
      "Accuracy of Pullover : 80 %\n",
      "Accuracy of Dress : 78 %\n",
      "Accuracy of  Coat : 57 %\n",
      "Accuracy of Sandal : 93 %\n",
      "Accuracy of Shirt : 48 %\n",
      "Accuracy of Sneaker : 94 %\n",
      "Accuracy of   Bag : 93 %\n",
      "Accuracy of Ankle_Book : 92 %\n",
      "Accuracy of all : 81 %\n"
     ]
    }
   ],
   "source": [
    "# 测试模型\n",
    "class_correct = list(0. for i in range(10)) # 定义列表，收集每个类的正确个数\n",
    "class_total = list(0. for i in range(10))   # 定义列表，收集每个类的总个数\n",
    "with torch.no_grad():\n",
    "    for data in test_loader:    # 遍历测试数据集\n",
    "        images, labels = data\n",
    "        inputs, labels = images.to(device), labels.to(device)\n",
    "        outputs = network(inputs)           # 将每批次的数据输入模型\n",
    "        _, predicted = torch.max(outputs, 1)    # 计算预测结果\n",
    "        predicted = predicted.to(device)\n",
    "        c = (predicted == labels).squeeze()     # 统计正确个数\n",
    "        for i in range(10):\n",
    "            label = labels[i]\n",
    "            class_correct[label] += c[i].item() # 如果该类标签预测正确，那么+1\n",
    "            class_total[label] += 1             # 根据标签中的类别，计算类的总和\n",
    "sumacc = 0\n",
    "for i in range(10):\n",
    "    Accuracy = 100 * class_correct[i] /class_total[i]   # 输出每个类的预测结果\n",
    "    print('Accuracy of %5s : %2d %%' % (classes[i], Accuracy))\n",
    "    sumacc = sumacc+Accuracy\n",
    "print('Accuracy of all : %2d %%' % (sumacc/10 ))    # 输出最终的准确率"
   ]
  }
 ],
 "metadata": {
  "kernelspec": {
   "display_name": "pj1",
   "language": "python",
   "name": "python3"
  },
  "language_info": {
   "codemirror_mode": {
    "name": "ipython",
    "version": 3
   },
   "file_extension": ".py",
   "mimetype": "text/x-python",
   "name": "python",
   "nbconvert_exporter": "python",
   "pygments_lexer": "ipython3",
   "version": "3.9.13"
  },
  "orig_nbformat": 4,
  "vscode": {
   "interpreter": {
    "hash": "1a2ba024e8b74661af8ab6e95599756a59d5ec2a34e482eaba93c7adfdb10e92"
   }
  }
 },
 "nbformat": 4,
 "nbformat_minor": 2
}
