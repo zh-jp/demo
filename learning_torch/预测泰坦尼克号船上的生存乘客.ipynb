{
 "cells": [
  {
   "attachments": {},
   "cell_type": "markdown",
   "metadata": {},
   "source": [
    "1. 载入样本"
   ]
  },
  {
   "cell_type": "code",
   "execution_count": 39,
   "metadata": {},
   "outputs": [
    {
     "name": "stdout",
     "output_type": "stream",
     "text": [
      "Index(['pclass', 'survived', 'name', 'sex', 'age', 'sibsp', 'parch', 'ticket',\n",
      "       'fare', 'cabin', 'embarked', 'boat', 'body', 'home.dest'],\n",
      "      dtype='object')\n"
     ]
    }
   ],
   "source": [
    "import numpy as np\n",
    "import torch\n",
    "import torch.nn as nn\n",
    "import torch.nn.functional as F\n",
    "import os\n",
    "from scipy import stats\n",
    "import pandas as pd\n",
    "titanic_data = pd.read_csv(\"data/titanic3.csv\")\n",
    "print(titanic_data.columns)"
   ]
  },
  {
   "attachments": {},
   "cell_type": "markdown",
   "metadata": {},
   "source": [
    "2. 处理样本中的离散数据和Nan值"
   ]
  },
  {
   "cell_type": "code",
   "execution_count": 40,
   "metadata": {},
   "outputs": [
    {
     "name": "stdout",
     "output_type": "stream",
     "text": [
      "Index(['pclass', 'survived', 'name', 'sex', 'age', 'sibsp', 'parch', 'ticket',\n",
      "       'fare', 'cabin', 'embarked', 'boat', 'body', 'home.dest', 'female',\n",
      "       'male', 'embark_C', 'embark_Q', 'embark_S', 'class_1', 'class_2',\n",
      "       'class_3'],\n",
      "      dtype='object')\n",
      "0       female\n",
      "1         male\n",
      "2       female\n",
      "3         male\n",
      "4       female\n",
      "         ...  \n",
      "1304    female\n",
      "1305    female\n",
      "1306      male\n",
      "1307      male\n",
      "1308      male\n",
      "Name: sex, Length: 1309, dtype: object\n",
      "0       1\n",
      "1       0\n",
      "2       1\n",
      "3       0\n",
      "4       1\n",
      "       ..\n",
      "1304    1\n",
      "1305    1\n",
      "1306    0\n",
      "1307    0\n",
      "1308    0\n",
      "Name: female, Length: 1309, dtype: uint8\n"
     ]
    }
   ],
   "source": [
    "titanic_data = pd.concat([titanic_data,\n",
    "    pd.get_dummies(titanic_data['sex']),\n",
    "    pd.get_dummies(titanic_data['embarked'], prefix=\"embark\"),\n",
    "    pd.get_dummies(titanic_data['pclass'], prefix=\"class\")], axis=1\n",
    ")\n",
    "print(titanic_data.columns)\n",
    "print(titanic_data['sex'])\n",
    "print(titanic_data['female'])"
   ]
  },
  {
   "attachments": {},
   "cell_type": "markdown",
   "metadata": {},
   "source": [
    "3. 对Nan值进行过滤填充"
   ]
  },
  {
   "cell_type": "code",
   "execution_count": 41,
   "metadata": {},
   "outputs": [],
   "source": [
    "titanic_data[\"age\"] = titanic_data[\"age\"].fillna(titanic_data[\"age\"].mean())\n",
    "titanic_data[\"fare\"] = titanic_data[\"fare\"].fillna(titanic_data[\"fare\"].mean())"
   ]
  },
  {
   "attachments": {},
   "cell_type": "markdown",
   "metadata": {},
   "source": [
    "4. 剔除无用的数据列"
   ]
  },
  {
   "cell_type": "code",
   "execution_count": 42,
   "metadata": {},
   "outputs": [
    {
     "name": "stdout",
     "output_type": "stream",
     "text": [
      "Index(['survived', 'age', 'sibsp', 'parch', 'fare', 'female', 'male',\n",
      "       'embark_C', 'embark_Q', 'embark_S', 'class_1', 'class_2', 'class_3'],\n",
      "      dtype='object')\n"
     ]
    }
   ],
   "source": [
    "titanic_data = titanic_data.drop(['name', 'ticket', 'cabin', 'boat', 'body', 'home.dest', \n",
    "'sex', 'embarked', 'pclass'], axis=1)\n",
    "print(titanic_data.columns)"
   ]
  },
  {
   "attachments": {},
   "cell_type": "markdown",
   "metadata": {},
   "source": [
    "5. 分离样本和标签制成数据集"
   ]
  },
  {
   "cell_type": "code",
   "execution_count": 43,
   "metadata": {},
   "outputs": [
    {
     "data": {
      "text/plain": [
       "393"
      ]
     },
     "execution_count": 43,
     "metadata": {},
     "output_type": "execute_result"
    }
   ],
   "source": [
    "labels = titanic_data[\"survived\"].to_numpy()\n",
    "\n",
    "titanic_data = titanic_data.drop(['survived'], axis=1)\n",
    "data = titanic_data.to_numpy()\n",
    "\n",
    "# 样本的属性名称\n",
    "feature_names = list(titanic_data.columns)\n",
    "\n",
    "# 将样本分成训练集和测试集两部分\n",
    "np.random.seed(10) # 设置种子，保证每次运行所分的样本一致\n",
    "train_indices = np.random.choice(len(labels), int(0.7*len(labels)), replace=False)\n",
    "test_indices = list(set(range(len(labels))) - set(train_indices))\n",
    "train_features = data[train_indices]\n",
    "train_labels = labels[train_indices]\n",
    "test_features = data[test_indices]\n",
    "test_labels = labels[test_indices]\n",
    "len(test_labels)"
   ]
  },
  {
   "attachments": {},
   "cell_type": "markdown",
   "metadata": {},
   "source": [
    "6. 定义Mish激活函数与多层全连接网络"
   ]
  },
  {
   "cell_type": "code",
   "execution_count": 44,
   "metadata": {},
   "outputs": [],
   "source": [
    "class Mish(nn.Module):\n",
    "    def __init__(self) -> None:\n",
    "        super().__init__()\n",
    "    def forward(self, x):\n",
    "        x = x*(torch.tanh(F.softplus(x)))\n",
    "        return x\n",
    "torch.manual_seed(0)\n",
    "class ThreelinearModule(nn.Module):\n",
    "    def __init__(self) -> None:\n",
    "        super().__init__()\n",
    "        self.linear1 = nn.Linear(12, 12)\n",
    "        self.mish1 = Mish()\n",
    "        self.linear2 = nn.Linear(12, 8)\n",
    "        self.mish2 = Mish()\n",
    "        self.linear3 = nn.Linear(8, 2)\n",
    "        self.softmax = nn.Softmax(dim=1)\n",
    "        self.criterion = nn.CrossEntropyLoss()\n",
    "    def forward(self, x):\n",
    "        lin1_out = self.linear1(x)\n",
    "        out1 = self.mish1(lin1_out)\n",
    "        out2 = self.mish2(self.linear2(out1))\n",
    "        return self.softmax(self.linear3(out2))\n",
    "    def getloss(self, x, y):\n",
    "        y_pred = self.forward(x)\n",
    "        loss = self.criterion(y_pred, y)\n",
    "        return loss"
   ]
  },
  {
   "attachments": {},
   "cell_type": "markdown",
   "metadata": {},
   "source": [
    "7. 训练模型并输出结果"
   ]
  },
  {
   "cell_type": "code",
   "execution_count": 45,
   "metadata": {},
   "outputs": [
    {
     "name": "stdout",
     "output_type": "stream",
     "text": [
      "Epoch 1/200 => Loss: 0.72\n",
      "Epoch 21/200 => Loss: 0.55\n",
      "Epoch 41/200 => Loss: 0.52\n",
      "Epoch 61/200 => Loss: 0.49\n",
      "Epoch 81/200 => Loss: 0.49\n",
      "Epoch 101/200 => Loss: 0.48\n",
      "Epoch 121/200 => Loss: 0.48\n",
      "Epoch 141/200 => Loss: 0.48\n",
      "Epoch 161/200 => Loss: 0.49\n",
      "Epoch 181/200 => Loss: 0.48\n",
      "Train Accuracy: 0.8286026200873362\n",
      "Test Accuracy: 0.7989821882951654\n"
     ]
    },
    {
     "data": {
      "image/png": "[encoded data removed]",
      "text/plain": [
       "<Figure size 640x480 with 1 Axes>"
      ]
     },
     "metadata": {},
     "output_type": "display_data"
    }
   ],
   "source": [
    "net = ThreelinearModule() # 实例化模型对象\n",
    "num_epochs = 200 # 设置训练次数\n",
    "optimizer = torch.optim.Adam(net.parameters(), lr=0.04) # 定义优化器\n",
    "\n",
    "# 将输出的样本标签转为张量\n",
    "input_tensor = torch.from_numpy(train_features).type(torch.FloatTensor)\n",
    "labels_tensor = torch.from_numpy(train_labels)\n",
    "losses = []         # 定义列表，用于接收每一步的损失值\n",
    "for epoch in range(num_epochs):\n",
    "    loss = net.getloss(input_tensor, labels_tensor)\n",
    "    losses.append(loss.item())\n",
    "    optimizer.zero_grad()   # 清空之前的梯度\n",
    "    loss.backward()  # 反向传播损失值\n",
    "    optimizer.step() # 更新参数\n",
    "    if epoch%20 == 0:\n",
    "        print('Epoch {}/{} => Loss: {:.2f}'.format(epoch+1, num_epochs, loss.item()))\n",
    "\n",
    "os.makedirs('models', exist_ok=True) # 新建文件夹\n",
    "torch.save(net.state_dict(), 'models/titanic_model.pt') #保存模型\n",
    "from code_02_moons_fun import plot_loss\n",
    "plot_loss(losses) # 显示可视化结果\n",
    "\n",
    "# 输出训练结果\n",
    "out_probs = net(input_tensor).detach().numpy()\n",
    "out_classes = np.argmax(out_probs, axis=1)\n",
    "print(\"Train Accuracy:\", sum(out_classes == train_labels) / len(train_labels))\n",
    "\n",
    "# 测试模型\n",
    "test_input_tensor = torch.from_numpy(test_features).type(torch.FloatTensor)\n",
    "out_probs = net(test_input_tensor).detach().numpy()\n",
    "out_classes = np.argmax(out_probs, axis=1)\n",
    "print(\"Test Accuracy:\", sum(out_classes == test_labels) / len(test_labels))"
   ]
  }
 ],
 "metadata": {
  "kernelspec": {
   "display_name": "pj1",
   "language": "python",
   "name": "python3"
  },
  "language_info": {
   "codemirror_mode": {
    "name": "ipython",
    "version": 3
   },
   "file_extension": ".py",
   "mimetype": "text/x-python",
   "name": "python",
   "nbconvert_exporter": "python",
   "pygments_lexer": "ipython3",
   "version": "3.9.13"
  },
  "orig_nbformat": 4,
  "vscode": {
   "interpreter": {
    "hash": "1a2ba024e8b74661af8ab6e95599756a59d5ec2a34e482eaba93c7adfdb10e92"
   }
  }
 },
 "nbformat": 4,
 "nbformat_minor": 2
}
